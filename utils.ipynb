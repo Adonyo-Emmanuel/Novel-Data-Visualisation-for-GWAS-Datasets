{
 "cells": [
  {
   "cell_type": "code",
   "execution_count": 1,
   "metadata": {},
   "outputs": [],
   "source": [
    "def _get_hover_text(df, snpname=None, genename=None, annotationname=None):\n",
    "    \"\"\"Format the hover text used in Manhattan and Volcano plots.\n",
    "    :param (dataFrame) df: A pandas dataframe.\n",
    "    :param (string) snpname: A string denoting the column name for the SNP\n",
    "    names (e.g., rs number). More generally, this column could be anything\n",
    "    that identifies each point being plotted. For example,\n",
    "    in an Epigenomewide association study (EWAS), this could be the probe\n",
    "    name or cg number. This column should be a character. This argument is\n",
    "    optional, however it is necessary to specify it if you want to\n",
    "    highlight points on the plot using the highlight argument in the\n",
    "    figure method.\n",
    "    :param (string) genename: A string denoting the column name for the\n",
    "    GENE names.\n",
    "    :param (string) annotationname: A string denoting the column name for\n",
    "    annotations. This could be any annotation information that you\n",
    "    want to include in the plot (e.g., zscore, effect size, minor allele\n",
    "    frequency).\n",
    "    \"\"\"\n",
    "    hover_text = ''\n",
    "    if snpname is not None and snpname in df.columns:\n",
    "        hover_text = 'SNP: ' + df[snpname].astype(str)\n",
    "\n",
    "    if genename is not None and genename in df.columns:\n",
    "        hover_text = hover_text \\\n",
    "                     + '<br>GENE: ' \\\n",
    "                     + df[genename].astype(str)\n",
    "\n",
    "    if annotationname is not None and annotationname in df.columns:\n",
    "        hover_text = hover_text \\\n",
    "                     + '<br>' \\\n",
    "                     + df[annotationname].astype(str)\n",
    "\n",
    "    return hover_text"
   ]
  },
  {
   "cell_type": "code",
   "execution_count": 3,
   "metadata": {},
   "outputs": [],
   "source": [
    "# import plotly.express as px\n",
    "# df = px.data.tips()\n",
    "# fig = px.histogram(df, x=\"day\", y=\"total_bill\", color=\"sex\", histfunc=\"sum\",\n",
    "#             title=\"Receipts by Payer Gender and Day of Week vs Target\",\n",
    "#             width=600, height=400,\n",
    "#             labels={\"sex\": \"Payer Gender\",  \"day\": \"Day of Week\", \"total_bill\": \"Receipts\"},\n",
    "#             category_orders={\"day\": [\"Thur\", \"Fri\", \"Sat\", \"Sun\"], \"sex\": [\"Male\", \"Female\"]},\n",
    "#             color_discrete_map={\"Male\": \"RebeccaPurple\", \"Female\": \"MediumPurple\"},\n",
    "#             template=\"simple_white\"\n",
    "#             )\n",
    "\n",
    "# fig.update_yaxes( # the y-axis is in dollars\n",
    "#     tickprefix=\"$\", showgrid=True\n",
    "# )\n",
    "\n",
    "# fig.update_layout( # customize font and legend orientation & position\n",
    "#     font_family=\"Rockwell\",\n",
    "#     legend=dict(\n",
    "#         title=None, orientation=\"h\", y=1, yanchor=\"bottom\", x=0.5, xanchor=\"center\"\n",
    "#     )\n",
    "# )\n",
    "\n",
    "# fig.add_shape( # add a horizontal \"target\" line\n",
    "#     type=\"line\", line_color=\"salmon\", line_width=3, opacity=1, line_dash=\"dot\",\n",
    "#     x0=0, x1=1, xref=\"paper\", y0=950, y1=950, yref=\"y\"\n",
    "# )\n",
    "\n",
    "# fig.add_annotation( # add a text callout with arrow\n",
    "#     text=\"below target!\", x=\"Fri\", y=400, arrowhead=1, showarrow=True\n",
    "# )\n",
    "\n",
    "# fig.show()"
   ]
  },
  {
   "cell_type": "code",
   "execution_count": null,
   "metadata": {},
   "outputs": [],
   "source": []
  }
 ],
 "metadata": {
  "kernelspec": {
   "display_name": "Python 3",
   "language": "python",
   "name": "python3"
  },
  "language_info": {
   "codemirror_mode": {
    "name": "ipython",
    "version": 3
   },
   "file_extension": ".py",
   "mimetype": "text/x-python",
   "name": "python",
   "nbconvert_exporter": "python",
   "pygments_lexer": "ipython3",
   "version": "3.7.6"
  }
 },
 "nbformat": 4,
 "nbformat_minor": 2
}
